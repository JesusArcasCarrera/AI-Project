{
  "nbformat": 4,
  "nbformat_minor": 0,
  "metadata": {
    "colab": {
      "name": "FaceMask Clasificator.ipynb",
      "provenance": [],
      "collapsed_sections": []
    },
    "kernelspec": {
      "name": "python3",
      "display_name": "Python 3"
    },
    "accelerator": "GPU"
  },
  "cells": [
    {
      "cell_type": "code",
      "metadata": {
        "id": "oyWXnBDwkkdE"
      },
      "source": [
        "#!unzip -q /content/dataset.zip -d /content/dataset/"
      ],
      "execution_count": 343,
      "outputs": []
    },
    {
      "cell_type": "code",
      "metadata": {
        "id": "xcVh9U2lmSIq"
      },
      "source": [
        "import keras\n",
        "import numpy as np\n",
        "import matplotlib.pyplot as plt\n",
        "\n",
        "from keras.models import Sequential\n",
        "from keras.layers import Dense, Conv2D, Dropout, Flatten, MaxPooling2D\n",
        "from keras.optimizers import Adam, RMSprop, SGD\n",
        "from keras.utils import to_categorical\n",
        "from dataset_load import load_data, get_label\n",
        "from keras.callbacks import  ModelCheckpoint"
      ],
      "execution_count": 344,
      "outputs": []
    },
    {
      "cell_type": "code",
      "metadata": {
        "id": "pH590LuIlu-w"
      },
      "source": [
        "(X_train, Y_train), (X_test, Y_test)= load_data(test_size = 0.2, path='/content/dataset/')"
      ],
      "execution_count": 345,
      "outputs": []
    },
    {
      "cell_type": "code",
      "metadata": {
        "id": "xdgIIGgdVLVI"
      },
      "source": [
        ""
      ],
      "execution_count": 345,
      "outputs": []
    },
    {
      "cell_type": "code",
      "metadata": {
        "id": "kzCNxJLhpRyZ",
        "outputId": "87fc6445-0d02-4980-e0e9-665a67a5c725",
        "colab": {
          "base_uri": "https://localhost:8080/",
          "height": 283
        }
      },
      "source": [
        "plt.imshow(X_train[5])"
      ],
      "execution_count": 346,
      "outputs": [
        {
          "output_type": "execute_result",
          "data": {
            "text/plain": [
              "<matplotlib.image.AxesImage at 0x7f9001cfdc88>"
            ]
          },
          "metadata": {
            "tags": []
          },
          "execution_count": 346
        },
        {
          "output_type": "display_data",
          "data": {
            "image/png": "[encoded data removed]",
            "text/plain": [
              "<Figure size 432x288 with 1 Axes>"
            ]
          },
          "metadata": {
            "tags": [],
            "needs_background": "light"
          }
        }
      ]
    },
    {
      "cell_type": "code",
      "metadata": {
        "id": "mdPOiOhb-jW3",
        "outputId": "bd33c702-6e8e-4130-fddf-2b1dfd7b315a",
        "colab": {
          "base_uri": "https://localhost:8080/"
        }
      },
      "source": [
        "Y_train[6]"
      ],
      "execution_count": 347,
      "outputs": [
        {
          "output_type": "execute_result",
          "data": {
            "text/plain": [
              "array([1, 0, 0], dtype=uint8)"
            ]
          },
          "metadata": {
            "tags": []
          },
          "execution_count": 347
        }
      ]
    },
    {
      "cell_type": "code",
      "metadata": {
        "id": "xrK_TlR6mOXj",
        "outputId": "6ca662d8-e60e-4971-fc44-7200a62b72a9",
        "colab": {
          "base_uri": "https://localhost:8080/"
        }
      },
      "source": [
        "drop_prob = 0.6\n",
        "\n",
        "ks=(7,7)# kernel size\n",
        "modelo = Sequential()\n",
        "modelo.add(Conv2D(input_shape=[64,64,3],filters=32,kernel_size=ks,padding='same',activation='relu'))\n",
        "modelo.add(MaxPooling2D())\n",
        "modelo.add(Conv2D(input_shape=[32,32,3],filters=64,kernel_size=ks, padding='same',activation='relu'))\n",
        "modelo.add(MaxPooling2D())\n",
        "modelo.add(Flatten())\n",
        "modelo.add(Dropout(rate=drop_prob))\n",
        "modelo.add(Dense(units=1024, activation='relu'))\n",
        "modelo.add(Dropout(rate=drop_prob))\n",
        "modelo.add(Dense(units=3, activation='softmax'))\n",
        "modelo.summary()"
      ],
      "execution_count": 348,
      "outputs": [
        {
          "output_type": "stream",
          "text": [
            "Model: \"sequential_18\"\n",
            "_________________________________________________________________\n",
            "Layer (type)                 Output Shape              Param #   \n",
            "=================================================================\n",
            "conv2d_36 (Conv2D)           (None, 64, 64, 64)        9472      \n",
            "_________________________________________________________________\n",
            "max_pooling2d_36 (MaxPooling (None, 32, 32, 64)        0         \n",
            "_________________________________________________________________\n",
            "conv2d_37 (Conv2D)           (None, 32, 32, 64)        200768    \n",
            "_________________________________________________________________\n",
            "max_pooling2d_37 (MaxPooling (None, 16, 16, 64)        0         \n",
            "_________________________________________________________________\n",
            "flatten_18 (Flatten)         (None, 16384)             0         \n",
            "_________________________________________________________________\n",
            "dropout_36 (Dropout)         (None, 16384)             0         \n",
            "_________________________________________________________________\n",
            "dense_36 (Dense)             (None, 1024)              16778240  \n",
            "_________________________________________________________________\n",
            "dropout_37 (Dropout)         (None, 1024)              0         \n",
            "_________________________________________________________________\n",
            "dense_37 (Dense)             (None, 3)                 3075      \n",
            "=================================================================\n",
            "Total params: 16,991,555\n",
            "Trainable params: 16,991,555\n",
            "Non-trainable params: 0\n",
            "_________________________________________________________________\n"
          ],
          "name": "stdout"
        }
      ]
    },
    {
      "cell_type": "code",
      "metadata": {
        "id": "85cj6qdAnD7t"
      },
      "source": [
        "epocas = 50\n",
        "bs = 50\n",
        "lr = 0.001\n",
        "optim = Adam(lr)\n",
        "modelo.compile(loss = 'categorical_crossentropy',optimizer=optim,metrics=['accuracy'])"
      ],
      "execution_count": 349,
      "outputs": []
    },
    {
      "cell_type": "code",
      "metadata": {
        "id": "v2h7o7T7Q4QU"
      },
      "source": [
        "checkpoint = ModelCheckpoint(\"best_model.h5\", monitor='val_accuracy', verbose=1,\n",
        "    save_best_only=True, mode='auto')"
      ],
      "execution_count": 350,
      "outputs": []
    },
    {
      "cell_type": "code",
      "metadata": {
        "id": "I1udKTg9nH35",
        "outputId": "b4778b17-720e-4284-a661-0232bf25cc90",
        "colab": {
          "base_uri": "https://localhost:8080/"
        }
      },
      "source": [
        "historico = modelo.fit(X_train, Y_train, epochs=epocas,batch_size=bs, validation_split=0.2, callbacks=[checkpoint])\n"
      ],
      "execution_count": 351,
      "outputs": [
        {
          "output_type": "stream",
          "text": [
            "Epoch 1/50\n",
            " 1/40 [..............................] - ETA: 0s - loss: 1.1079 - accuracy: 0.3400WARNING:tensorflow:Callbacks method `on_train_batch_end` is slow compared to the batch time (batch time: 0.0108s vs `on_train_batch_end` time: 0.0192s). Check your callbacks.\n",
            "38/40 [===========================>..] - ETA: 0s - loss: 0.8397 - accuracy: 0.6905\n",
            "Epoch 00001: val_accuracy improved from -inf to 0.88129, saving model to best_model.h5\n",
            "40/40 [==============================] - 2s 39ms/step - loss: 0.8187 - accuracy: 0.6990 - val_loss: 0.4089 - val_accuracy: 0.8813\n",
            "Epoch 2/50\n",
            "40/40 [==============================] - ETA: 0s - loss: 0.2891 - accuracy: 0.9180\n",
            "Epoch 00002: val_accuracy improved from 0.88129 to 0.92555, saving model to best_model.h5\n",
            "40/40 [==============================] - 1s 34ms/step - loss: 0.2891 - accuracy: 0.9180 - val_loss: 0.2957 - val_accuracy: 0.9256\n",
            "Epoch 3/50\n",
            "40/40 [==============================] - ETA: 0s - loss: 0.2588 - accuracy: 0.9235\n",
            "Epoch 00003: val_accuracy did not improve from 0.92555\n",
            "40/40 [==============================] - 1s 22ms/step - loss: 0.2588 - accuracy: 0.9235 - val_loss: 0.2642 - val_accuracy: 0.9235\n",
            "Epoch 4/50\n",
            "40/40 [==============================] - ETA: 0s - loss: 0.2212 - accuracy: 0.9371\n",
            "Epoch 00004: val_accuracy did not improve from 0.92555\n",
            "40/40 [==============================] - 1s 22ms/step - loss: 0.2212 - accuracy: 0.9371 - val_loss: 0.2881 - val_accuracy: 0.9054\n",
            "Epoch 5/50\n",
            "40/40 [==============================] - ETA: 0s - loss: 0.2050 - accuracy: 0.9386\n",
            "Epoch 00005: val_accuracy did not improve from 0.92555\n",
            "40/40 [==============================] - 1s 22ms/step - loss: 0.2050 - accuracy: 0.9386 - val_loss: 0.2838 - val_accuracy: 0.9034\n",
            "Epoch 6/50\n",
            "40/40 [==============================] - ETA: 0s - loss: 0.2204 - accuracy: 0.9391\n",
            "Epoch 00006: val_accuracy improved from 0.92555 to 0.92757, saving model to best_model.h5\n",
            "40/40 [==============================] - 1s 34ms/step - loss: 0.2204 - accuracy: 0.9391 - val_loss: 0.2291 - val_accuracy: 0.9276\n",
            "Epoch 7/50\n",
            "40/40 [==============================] - ETA: 0s - loss: 0.1981 - accuracy: 0.9411\n",
            "Epoch 00007: val_accuracy improved from 0.92757 to 0.92958, saving model to best_model.h5\n",
            "40/40 [==============================] - 1s 35ms/step - loss: 0.1981 - accuracy: 0.9411 - val_loss: 0.2472 - val_accuracy: 0.9296\n",
            "Epoch 8/50\n",
            "40/40 [==============================] - ETA: 0s - loss: 0.1641 - accuracy: 0.9532\n",
            "Epoch 00008: val_accuracy improved from 0.92958 to 0.93159, saving model to best_model.h5\n",
            "40/40 [==============================] - 1s 35ms/step - loss: 0.1641 - accuracy: 0.9532 - val_loss: 0.1934 - val_accuracy: 0.9316\n",
            "Epoch 9/50\n",
            "40/40 [==============================] - ETA: 0s - loss: 0.1622 - accuracy: 0.9532\n",
            "Epoch 00009: val_accuracy did not improve from 0.93159\n",
            "40/40 [==============================] - 1s 23ms/step - loss: 0.1622 - accuracy: 0.9532 - val_loss: 0.1901 - val_accuracy: 0.9256\n",
            "Epoch 10/50\n",
            "40/40 [==============================] - ETA: 0s - loss: 0.1522 - accuracy: 0.9522\n",
            "Epoch 00010: val_accuracy did not improve from 0.93159\n",
            "40/40 [==============================] - 1s 22ms/step - loss: 0.1522 - accuracy: 0.9522 - val_loss: 0.1847 - val_accuracy: 0.9296\n",
            "Epoch 11/50\n",
            "40/40 [==============================] - ETA: 0s - loss: 0.1259 - accuracy: 0.9587\n",
            "Epoch 00011: val_accuracy improved from 0.93159 to 0.93561, saving model to best_model.h5\n",
            "40/40 [==============================] - 1s 36ms/step - loss: 0.1259 - accuracy: 0.9587 - val_loss: 0.1973 - val_accuracy: 0.9356\n",
            "Epoch 12/50\n",
            "40/40 [==============================] - ETA: 0s - loss: 0.1213 - accuracy: 0.9572\n",
            "Epoch 00012: val_accuracy improved from 0.93561 to 0.94165, saving model to best_model.h5\n",
            "40/40 [==============================] - 1s 35ms/step - loss: 0.1213 - accuracy: 0.9572 - val_loss: 0.1746 - val_accuracy: 0.9416\n",
            "Epoch 13/50\n",
            "40/40 [==============================] - ETA: 0s - loss: 0.1006 - accuracy: 0.9668\n",
            "Epoch 00013: val_accuracy did not improve from 0.94165\n",
            "40/40 [==============================] - 1s 23ms/step - loss: 0.1006 - accuracy: 0.9668 - val_loss: 0.2318 - val_accuracy: 0.9396\n",
            "Epoch 14/50\n",
            "40/40 [==============================] - ETA: 0s - loss: 0.1114 - accuracy: 0.9618\n",
            "Epoch 00014: val_accuracy did not improve from 0.94165\n",
            "40/40 [==============================] - 1s 22ms/step - loss: 0.1114 - accuracy: 0.9618 - val_loss: 0.2604 - val_accuracy: 0.9296\n",
            "Epoch 15/50\n",
            "40/40 [==============================] - ETA: 0s - loss: 0.1354 - accuracy: 0.9572\n",
            "Epoch 00015: val_accuracy did not improve from 0.94165\n",
            "40/40 [==============================] - 1s 23ms/step - loss: 0.1354 - accuracy: 0.9572 - val_loss: 0.1971 - val_accuracy: 0.9376\n",
            "Epoch 16/50\n",
            "40/40 [==============================] - ETA: 0s - loss: 0.0878 - accuracy: 0.9658\n",
            "Epoch 00016: val_accuracy did not improve from 0.94165\n",
            "40/40 [==============================] - 1s 23ms/step - loss: 0.0878 - accuracy: 0.9658 - val_loss: 0.1626 - val_accuracy: 0.9376\n",
            "Epoch 17/50\n",
            "40/40 [==============================] - ETA: 0s - loss: 0.0819 - accuracy: 0.9698\n",
            "Epoch 00017: val_accuracy improved from 0.94165 to 0.94970, saving model to best_model.h5\n",
            "40/40 [==============================] - 1s 34ms/step - loss: 0.0819 - accuracy: 0.9698 - val_loss: 0.1771 - val_accuracy: 0.9497\n",
            "Epoch 18/50\n",
            "39/40 [============================>.] - ETA: 0s - loss: 0.1806 - accuracy: 0.9436\n",
            "Epoch 00018: val_accuracy did not improve from 0.94970\n",
            "40/40 [==============================] - 1s 23ms/step - loss: 0.1821 - accuracy: 0.9421 - val_loss: 0.2769 - val_accuracy: 0.9235\n",
            "Epoch 19/50\n",
            "40/40 [==============================] - ETA: 0s - loss: 0.2120 - accuracy: 0.9401\n",
            "Epoch 00019: val_accuracy did not improve from 0.94970\n",
            "40/40 [==============================] - 1s 22ms/step - loss: 0.2120 - accuracy: 0.9401 - val_loss: 0.2450 - val_accuracy: 0.9256\n",
            "Epoch 20/50\n",
            "40/40 [==============================] - ETA: 0s - loss: 0.1843 - accuracy: 0.9386\n",
            "Epoch 00020: val_accuracy did not improve from 0.94970\n",
            "40/40 [==============================] - 1s 23ms/step - loss: 0.1843 - accuracy: 0.9386 - val_loss: 0.2639 - val_accuracy: 0.9316\n",
            "Epoch 21/50\n",
            "40/40 [==============================] - ETA: 0s - loss: 0.1078 - accuracy: 0.9612\n",
            "Epoch 00021: val_accuracy did not improve from 0.94970\n",
            "40/40 [==============================] - 1s 23ms/step - loss: 0.1078 - accuracy: 0.9612 - val_loss: 0.2394 - val_accuracy: 0.9396\n",
            "Epoch 22/50\n",
            "40/40 [==============================] - ETA: 0s - loss: 0.0928 - accuracy: 0.9693\n",
            "Epoch 00022: val_accuracy improved from 0.94970 to 0.95171, saving model to best_model.h5\n",
            "40/40 [==============================] - 1s 35ms/step - loss: 0.0928 - accuracy: 0.9693 - val_loss: 0.1914 - val_accuracy: 0.9517\n",
            "Epoch 23/50\n",
            "40/40 [==============================] - ETA: 0s - loss: 0.0742 - accuracy: 0.9723\n",
            "Epoch 00023: val_accuracy did not improve from 0.95171\n",
            "40/40 [==============================] - 1s 23ms/step - loss: 0.0742 - accuracy: 0.9723 - val_loss: 0.2491 - val_accuracy: 0.9396\n",
            "Epoch 24/50\n",
            "40/40 [==============================] - ETA: 0s - loss: 0.1021 - accuracy: 0.9602\n",
            "Epoch 00024: val_accuracy did not improve from 0.95171\n",
            "40/40 [==============================] - 1s 23ms/step - loss: 0.1021 - accuracy: 0.9602 - val_loss: 0.2935 - val_accuracy: 0.9376\n",
            "Epoch 25/50\n",
            "40/40 [==============================] - ETA: 0s - loss: 0.0635 - accuracy: 0.9763\n",
            "Epoch 00025: val_accuracy did not improve from 0.95171\n",
            "40/40 [==============================] - 1s 23ms/step - loss: 0.0635 - accuracy: 0.9763 - val_loss: 0.2307 - val_accuracy: 0.9437\n",
            "Epoch 26/50\n",
            "40/40 [==============================] - ETA: 0s - loss: 0.0542 - accuracy: 0.9814\n",
            "Epoch 00026: val_accuracy did not improve from 0.95171\n",
            "40/40 [==============================] - 1s 23ms/step - loss: 0.0542 - accuracy: 0.9814 - val_loss: 0.2378 - val_accuracy: 0.9457\n",
            "Epoch 27/50\n",
            "40/40 [==============================] - ETA: 0s - loss: 0.0637 - accuracy: 0.9758\n",
            "Epoch 00027: val_accuracy did not improve from 0.95171\n",
            "40/40 [==============================] - 1s 23ms/step - loss: 0.0637 - accuracy: 0.9758 - val_loss: 0.2537 - val_accuracy: 0.9396\n",
            "Epoch 28/50\n",
            "40/40 [==============================] - ETA: 0s - loss: 0.0563 - accuracy: 0.9829\n",
            "Epoch 00028: val_accuracy did not improve from 0.95171\n",
            "40/40 [==============================] - 1s 23ms/step - loss: 0.0563 - accuracy: 0.9829 - val_loss: 0.2764 - val_accuracy: 0.9457\n",
            "Epoch 29/50\n",
            "40/40 [==============================] - ETA: 0s - loss: 0.1091 - accuracy: 0.9673\n",
            "Epoch 00029: val_accuracy did not improve from 0.95171\n",
            "40/40 [==============================] - 1s 22ms/step - loss: 0.1091 - accuracy: 0.9673 - val_loss: 0.2515 - val_accuracy: 0.9376\n",
            "Epoch 30/50\n",
            "40/40 [==============================] - ETA: 0s - loss: 0.0549 - accuracy: 0.9824\n",
            "Epoch 00030: val_accuracy did not improve from 0.95171\n",
            "40/40 [==============================] - 1s 23ms/step - loss: 0.0549 - accuracy: 0.9824 - val_loss: 0.2520 - val_accuracy: 0.9376\n",
            "Epoch 31/50\n",
            "40/40 [==============================] - ETA: 0s - loss: 0.0417 - accuracy: 0.9864\n",
            "Epoch 00031: val_accuracy did not improve from 0.95171\n",
            "40/40 [==============================] - 1s 23ms/step - loss: 0.0417 - accuracy: 0.9864 - val_loss: 0.2727 - val_accuracy: 0.9437\n",
            "Epoch 32/50\n",
            "40/40 [==============================] - ETA: 0s - loss: 0.0302 - accuracy: 0.9904\n",
            "Epoch 00032: val_accuracy did not improve from 0.95171\n",
            "40/40 [==============================] - 1s 23ms/step - loss: 0.0302 - accuracy: 0.9904 - val_loss: 0.3095 - val_accuracy: 0.9376\n",
            "Epoch 33/50\n",
            "40/40 [==============================] - ETA: 0s - loss: 0.0368 - accuracy: 0.9869\n",
            "Epoch 00033: val_accuracy did not improve from 0.95171\n",
            "40/40 [==============================] - 1s 22ms/step - loss: 0.0368 - accuracy: 0.9869 - val_loss: 0.3501 - val_accuracy: 0.9376\n",
            "Epoch 34/50\n",
            "40/40 [==============================] - ETA: 0s - loss: 0.0450 - accuracy: 0.9829\n",
            "Epoch 00034: val_accuracy did not improve from 0.95171\n",
            "40/40 [==============================] - 1s 23ms/step - loss: 0.0450 - accuracy: 0.9829 - val_loss: 0.3562 - val_accuracy: 0.9316\n",
            "Epoch 35/50\n",
            "40/40 [==============================] - ETA: 0s - loss: 0.0363 - accuracy: 0.9894\n",
            "Epoch 00035: val_accuracy did not improve from 0.95171\n",
            "40/40 [==============================] - 1s 23ms/step - loss: 0.0363 - accuracy: 0.9894 - val_loss: 0.2867 - val_accuracy: 0.9376\n",
            "Epoch 36/50\n",
            "40/40 [==============================] - ETA: 0s - loss: 0.0324 - accuracy: 0.9874\n",
            "Epoch 00036: val_accuracy did not improve from 0.95171\n",
            "40/40 [==============================] - 1s 23ms/step - loss: 0.0324 - accuracy: 0.9874 - val_loss: 0.3622 - val_accuracy: 0.9396\n",
            "Epoch 37/50\n",
            "40/40 [==============================] - ETA: 0s - loss: 0.0480 - accuracy: 0.9829\n",
            "Epoch 00037: val_accuracy did not improve from 0.95171\n",
            "40/40 [==============================] - 1s 23ms/step - loss: 0.0480 - accuracy: 0.9829 - val_loss: 0.3290 - val_accuracy: 0.9316\n",
            "Epoch 38/50\n",
            "40/40 [==============================] - ETA: 0s - loss: 0.0371 - accuracy: 0.9879\n",
            "Epoch 00038: val_accuracy did not improve from 0.95171\n",
            "40/40 [==============================] - 1s 23ms/step - loss: 0.0371 - accuracy: 0.9879 - val_loss: 0.2718 - val_accuracy: 0.9457\n",
            "Epoch 39/50\n",
            "39/40 [============================>.] - ETA: 0s - loss: 0.0665 - accuracy: 0.9831\n",
            "Epoch 00039: val_accuracy did not improve from 0.95171\n",
            "40/40 [==============================] - 1s 23ms/step - loss: 0.0659 - accuracy: 0.9829 - val_loss: 0.2927 - val_accuracy: 0.9356\n",
            "Epoch 40/50\n",
            "40/40 [==============================] - ETA: 0s - loss: 0.0378 - accuracy: 0.9869\n",
            "Epoch 00040: val_accuracy did not improve from 0.95171\n",
            "40/40 [==============================] - 1s 23ms/step - loss: 0.0378 - accuracy: 0.9869 - val_loss: 0.3517 - val_accuracy: 0.9396\n",
            "Epoch 41/50\n",
            "40/40 [==============================] - ETA: 0s - loss: 0.0462 - accuracy: 0.9869\n",
            "Epoch 00041: val_accuracy did not improve from 0.95171\n",
            "40/40 [==============================] - 1s 23ms/step - loss: 0.0462 - accuracy: 0.9869 - val_loss: 0.2675 - val_accuracy: 0.9356\n",
            "Epoch 42/50\n",
            "40/40 [==============================] - ETA: 0s - loss: 0.0616 - accuracy: 0.9809\n",
            "Epoch 00042: val_accuracy did not improve from 0.95171\n",
            "40/40 [==============================] - 1s 22ms/step - loss: 0.0616 - accuracy: 0.9809 - val_loss: 0.2635 - val_accuracy: 0.9457\n",
            "Epoch 43/50\n",
            "40/40 [==============================] - ETA: 0s - loss: 0.0261 - accuracy: 0.9904\n",
            "Epoch 00043: val_accuracy did not improve from 0.95171\n",
            "40/40 [==============================] - 1s 23ms/step - loss: 0.0261 - accuracy: 0.9904 - val_loss: 0.3276 - val_accuracy: 0.9437\n",
            "Epoch 44/50\n",
            "40/40 [==============================] - ETA: 0s - loss: 0.0219 - accuracy: 0.9914\n",
            "Epoch 00044: val_accuracy did not improve from 0.95171\n",
            "40/40 [==============================] - 1s 22ms/step - loss: 0.0219 - accuracy: 0.9914 - val_loss: 0.3456 - val_accuracy: 0.9396\n",
            "Epoch 45/50\n",
            "40/40 [==============================] - ETA: 0s - loss: 0.0241 - accuracy: 0.9889\n",
            "Epoch 00045: val_accuracy did not improve from 0.95171\n",
            "40/40 [==============================] - 1s 23ms/step - loss: 0.0241 - accuracy: 0.9889 - val_loss: 0.3029 - val_accuracy: 0.9457\n",
            "Epoch 46/50\n",
            "40/40 [==============================] - ETA: 0s - loss: 0.0470 - accuracy: 0.9849\n",
            "Epoch 00046: val_accuracy did not improve from 0.95171\n",
            "40/40 [==============================] - 1s 23ms/step - loss: 0.0470 - accuracy: 0.9849 - val_loss: 0.3521 - val_accuracy: 0.9437\n",
            "Epoch 47/50\n",
            "40/40 [==============================] - ETA: 0s - loss: 0.0473 - accuracy: 0.9844\n",
            "Epoch 00047: val_accuracy did not improve from 0.95171\n",
            "40/40 [==============================] - 1s 23ms/step - loss: 0.0473 - accuracy: 0.9844 - val_loss: 0.2930 - val_accuracy: 0.9437\n",
            "Epoch 48/50\n",
            "39/40 [============================>.] - ETA: 0s - loss: 0.0409 - accuracy: 0.9831\n",
            "Epoch 00048: val_accuracy did not improve from 0.95171\n",
            "40/40 [==============================] - 1s 23ms/step - loss: 0.0404 - accuracy: 0.9834 - val_loss: 0.2851 - val_accuracy: 0.9416\n",
            "Epoch 49/50\n",
            "40/40 [==============================] - ETA: 0s - loss: 0.0275 - accuracy: 0.9874\n",
            "Epoch 00049: val_accuracy did not improve from 0.95171\n",
            "40/40 [==============================] - 1s 23ms/step - loss: 0.0275 - accuracy: 0.9874 - val_loss: 0.7056 - val_accuracy: 0.8934\n",
            "Epoch 50/50\n",
            "40/40 [==============================] - ETA: 0s - loss: 0.0990 - accuracy: 0.9678\n",
            "Epoch 00050: val_accuracy did not improve from 0.95171\n",
            "40/40 [==============================] - 1s 23ms/step - loss: 0.0990 - accuracy: 0.9678 - val_loss: 0.4612 - val_accuracy: 0.9336\n"
          ],
          "name": "stdout"
        }
      ]
    },
    {
      "cell_type": "code",
      "metadata": {
        "id": "ouEK3GEinJmb",
        "outputId": "b6609c42-f713-4da3-ae4a-968a8fdd0d82",
        "colab": {
          "base_uri": "https://localhost:8080/",
          "height": 265
        }
      },
      "source": [
        "plt.plot(historico.history['loss'],c='b')\n",
        "plt.plot(historico.history['val_loss'],c='r')\n",
        "plt.show()"
      ],
      "execution_count": 352,
      "outputs": [
        {
          "output_type": "display_data",
          "data": {
            "image/png": "[encoded data removed]",
            "text/plain": [
              "<Figure size 432x288 with 1 Axes>"
            ]
          },
          "metadata": {
            "tags": [],
            "needs_background": "light"
          }
        }
      ]
    },
    {
      "cell_type": "code",
      "metadata": {
        "id": "1vKeJw8WnLMR",
        "outputId": "9577760a-7709-45cd-dde9-2ef5c6ca7a13",
        "colab": {
          "base_uri": "https://localhost:8080/",
          "height": 265
        }
      },
      "source": [
        "plt.plot(historico.history['accuracy'],c='b')\n",
        "plt.plot(historico.history['val_accuracy'],c='r')\n",
        "plt.show()"
      ],
      "execution_count": 353,
      "outputs": [
        {
          "output_type": "display_data",
          "data": {
            "image/png": "[encoded data removed]",
            "text/plain": [
              "<Figure size 432x288 with 1 Axes>"
            ]
          },
          "metadata": {
            "tags": [],
            "needs_background": "light"
          }
        }
      ]
    },
    {
      "cell_type": "code",
      "metadata": {
        "id": "HGc5j2SYSc3-",
        "outputId": "dc1a951f-2fc7-4d9d-a6ee-5f2a462edf05",
        "colab": {
          "base_uri": "https://localhost:8080/"
        }
      },
      "source": [
        "metricas = modelo.evaluate(X_test,Y_test,verbose=0)\n",
        "print(\"Accuracy {:5.3}\".format(metricas[1]))\n"
      ],
      "execution_count": 354,
      "outputs": [
        {
          "output_type": "stream",
          "text": [
            "Accuracy  0.95\n"
          ],
          "name": "stdout"
        }
      ]
    },
    {
      "cell_type": "code",
      "metadata": {
        "id": "p31AEqpIT8qY"
      },
      "source": [
        "modelo.save('./last.h5')"
      ],
      "execution_count": 355,
      "outputs": []
    },
    {
      "cell_type": "code",
      "metadata": {
        "id": "doK0R3anSEUp"
      },
      "source": [
        "modelo = keras.models.load_model('./best_model.h5')"
      ],
      "execution_count": 356,
      "outputs": []
    },
    {
      "cell_type": "code",
      "metadata": {
        "id": "cEkcVYdxnNL1",
        "outputId": "09c7dcb5-cfc9-4735-8c95-1ae65a42d143",
        "colab": {
          "base_uri": "https://localhost:8080/"
        }
      },
      "source": [
        "metricas = modelo.evaluate(X_test,Y_test,verbose=0)\n",
        "print(\"Accuracy {:5.3}\".format(metricas[1]))"
      ],
      "execution_count": 357,
      "outputs": [
        {
          "output_type": "stream",
          "text": [
            "Accuracy 0.947\n"
          ],
          "name": "stdout"
        }
      ]
    },
    {
      "cell_type": "code",
      "metadata": {
        "id": "Y82Nrr_69plM",
        "outputId": "a04cc814-0716-4642-ffd0-e76dc74d008b",
        "colab": {
          "base_uri": "https://localhost:8080/",
          "height": 322
        }
      },
      "source": [
        "import random\n",
        "ind = random.randint(0,X_test.shape[0]-1)\n",
        "plt.imshow(X_test[ind])\n",
        "get_label(modelo.predict(X_test[ind].reshape(1,64,64,3)))"
      ],
      "execution_count": 358,
      "outputs": [
        {
          "output_type": "stream",
          "text": [
            "WARNING:tensorflow:11 out of the last 40 calls to <function Model.make_predict_function.<locals>.predict_function at 0x7f90585090d0> triggered tf.function retracing. Tracing is expensive and the excessive number of tracings could be due to (1) creating @tf.function repeatedly in a loop, (2) passing tensors with different shapes, (3) passing Python objects instead of tensors. For (1), please define your @tf.function outside of the loop. For (2), @tf.function has experimental_relax_shapes=True option that relaxes argument shapes that can avoid unnecessary retracing. For (3), please refer to https://www.tensorflow.org/tutorials/customization/performance#python_or_tensor_args and https://www.tensorflow.org/api_docs/python/tf/function for  more details.\n"
          ],
          "name": "stdout"
        },
        {
          "output_type": "execute_result",
          "data": {
            "application/vnd.google.colaboratory.intrinsic+json": {
              "type": "string"
            },
            "text/plain": [
              "'without_mask'"
            ]
          },
          "metadata": {
            "tags": []
          },
          "execution_count": 358
        },
        {
          "output_type": "display_data",
          "data": {
            "image/png": "[encoded data removed]",
            "text/plain": [
              "<Figure size 432x288 with 1 Axes>"
            ]
          },
          "metadata": {
            "tags": [],
            "needs_background": "light"
          }
        }
      ]
    },
    {
      "cell_type": "code",
      "metadata": {
        "id": "P0vLVe5P90dR",
        "outputId": "d836e50a-5e71-47ee-e350-43714558865e",
        "colab": {
          "base_uri": "https://localhost:8080/"
        }
      },
      "source": [
        "ind"
      ],
      "execution_count": 359,
      "outputs": [
        {
          "output_type": "execute_result",
          "data": {
            "text/plain": [
              "602"
            ]
          },
          "metadata": {
            "tags": []
          },
          "execution_count": 359
        }
      ]
    },
    {
      "cell_type": "code",
      "metadata": {
        "id": "PfPg2PgxOQ8r"
      },
      "source": [
        ""
      ],
      "execution_count": 359,
      "outputs": []
    }
  ]
}